{
 "cells": [
  {
   "cell_type": "markdown",
   "metadata": {},
   "source": [
    "# Pick and Place Project: KUKA KR210 Forward Kinematics"
   ]
  },
  {
   "cell_type": "code",
   "execution_count": 11,
   "metadata": {
    "collapsed": true
   },
   "outputs": [],
   "source": [
    "from mpmath import *\n",
    "from sympy import *\n",
    "\n",
    "# Define DH param symbols\n",
    "q1, q2, q3, q4, q5, q6, q7 = symbols('q1:8') #theta\n",
    "A0, A1, A2, A3, A4, A5, A6 = symbols('A0:7') #alpha\n",
    "a0, a1, a2, a3, a4, a5, a6 = symbols('a0:7') #dist Z(i-1)-Zi along $\n",
    "d1, d2, d3, d4 ,d5, d6, d7 = symbols('d1:8') #dist X(i-1)-Xi along $\n",
    "theta2 = symbols('theta2') #theta calculated\n",
    "\n",
    "#q1, theta2, q3, q4, q5, q6, q7 = 0,0,0,0,0,0,0\n",
    "\n",
    "DH = {A0:     0, a0:      0, d1: 0.75, \n",
    "      A1: -pi/2, a1:   0.35, d2:    0, q2: (theta2-pi/2),\n",
    "      A2:     0, a2:   1.25, d3:    0, \n",
    "      A3: -pi/2, a3: -0.054, d4: 1.50, \n",
    "      A4:  pi/2, a4:      0, d5:    0, \n",
    "      A5: -pi/2, a5:      0, d6:    0, \n",
    "      A6:     0, a6:      0, d7: 0.303, q7:             0\n",
    "     }\n",
    "\n",
    "def homogeneous_transform(A,a,d,q):\n",
    "    out = Matrix([[        cos(q),       -sin(q),       0,         a],\n",
    "                  [ sin(q)*cos(A), cos(q)*cos(A), -sin(A), -sin(A)*d],\n",
    "                  [ sin(q)*sin(A), cos(q)*sin(A),  cos(A),  cos(A)*d],\n",
    "                  [             0,             0,       0,         1]])\n",
    "    return out\n",
    "\n",
    "T0_1 = homogeneous_transform(A0,a0,d1,q1)\n",
    "T0_1 = T0_1.subs(DH)\n",
    "T1_2 = homogeneous_transform(A1,a1,d2,q2)\n",
    "T1_2 = T1_2.subs(DH)\n",
    "T2_3 = homogeneous_transform(A2,a2,d3,q3)\n",
    "T2_3 = T2_3.subs(DH)\n",
    "T3_4 = homogeneous_transform(A3,a3,d4,q4)\n",
    "T3_4 = T3_4.subs(DH)\n",
    "T4_5 = homogeneous_transform(A4,a4,d5,q5)\n",
    "T4_5 = T4_5.subs(DH)\n",
    "T5_6 = homogeneous_transform(A5,a5,d6,q6)\n",
    "T5_6 = T5_6.subs(DH)\n",
    "T6_7 = homogeneous_transform(A6,a6,d7,q7)\n",
    "T6_7 = T6_7.subs(DH)\n",
    "\n",
    "T0_7 = simplify(T0_1*T1_2*T2_3*T3_4*T4_5*T5_6*T6_7)\n"
   ]
  },
  {
   "cell_type": "code",
   "execution_count": null,
   "metadata": {
    "collapsed": true
   },
   "outputs": [],
   "source": [
    "simplify(T0_1)"
   ]
  },
  {
   "cell_type": "code",
   "execution_count": null,
   "metadata": {
    "collapsed": true
   },
   "outputs": [],
   "source": [
    "simplify(T1_2)"
   ]
  },
  {
   "cell_type": "code",
   "execution_count": null,
   "metadata": {
    "collapsed": true
   },
   "outputs": [],
   "source": [
    "simplify(T2_3)"
   ]
  },
  {
   "cell_type": "code",
   "execution_count": null,
   "metadata": {
    "collapsed": true
   },
   "outputs": [],
   "source": [
    "simplify(T3_4)"
   ]
  },
  {
   "cell_type": "code",
   "execution_count": null,
   "metadata": {
    "collapsed": true
   },
   "outputs": [],
   "source": [
    "simplify(T4_5)"
   ]
  },
  {
   "cell_type": "code",
   "execution_count": null,
   "metadata": {
    "collapsed": true
   },
   "outputs": [],
   "source": [
    "simplify(T5_6)"
   ]
  },
  {
   "cell_type": "code",
   "execution_count": null,
   "metadata": {
    "collapsed": true
   },
   "outputs": [],
   "source": [
    "simplify(T6_7)"
   ]
  },
  {
   "cell_type": "code",
   "execution_count": null,
   "metadata": {
    "collapsed": true
   },
   "outputs": [],
   "source": [
    "# Calculate T0_EE using only end effector joint positions (px,py,pz) and orientations (r,p,y)\n",
    "\n",
    "px = symbols('px')\n",
    "py = symbols('py')\n",
    "pz = symbols('pz')\n",
    "r = symbols('r')\n",
    "p = symbols('p')\n",
    "y = symbols('y')\n",
    "\n",
    "# Defien Euler Angles\n",
    "R_x = Matrix([[      1,      0,        0],\n",
    "              [      0, cos(r),  -sin(r)],\n",
    "              [      0, sin(r),   cos(r)]])\n",
    "R_y = Matrix([[ cos(p),      0,   sin(p)],\n",
    "              [      0,      1,        0],\n",
    "              [-sin(p),      0,   cos(p)]])\n",
    "R_z = Matrix([[ cos(y),-sin(y),        0],\n",
    "              [ sin(y), cos(y),        0],\n",
    "              [      0,      0,        1]])\n",
    "# Intrinsic rotation\n",
    "Rxyz = R_x*R_y*R_z \n",
    "\n",
    "T0_EE = Rxyz.col_join(Matrix([[0,0,0]])).row_join(Matrix([px,py,pz,1]))\n",
    "T0_EE"
   ]
  },
  {
   "cell_type": "markdown",
   "metadata": {},
   "source": [
    "# KUKA KR210 Inverse Kinematics"
   ]
  },
  {
   "cell_type": "code",
   "execution_count": null,
   "metadata": {
    "collapsed": true
   },
   "outputs": [],
   "source": [
    "# import rospy\n",
    "# import tf\n",
    "# from kuka_arm.srv import *\n",
    "# from trajectory_msgs.msg import JointTrajectory, JointTrajectoryPoint\n",
    "# from geometry_msgs.msg import Pose\n",
    "from mpmath import *\n",
    "from sympy import *\n",
    "\n",
    "# Define DH param symbols\n",
    "q1, q2, q3, q4, q5, q6, q7 = symbols('q1:8') #theta \n",
    "A0, A1, A2, A3, A4, A5, A6 = symbols('A0:7') #alpha\n",
    "a0, a1, a2, a3, a4, a5, a6 = symbols('a0:7') #dist Z(i-1)-Zi along X(i-1)\n",
    "d1, d2, d3, d4 ,d5, d6, d7 = symbols('d1:8') #dist X(i-1)-Xi along Zi\n",
    "theta2 = symbols('theta2') #theta2 calculated\n",
    "\n",
    "# DH params for Kuka KR210\n",
    "DH = {A0:     0, a0:      0, d1:  0.75, \n",
    "      A1: -pi/2, a1:   0.35, d2:     0, q2: (theta2-pi/2),\n",
    "      A2:     0, a2:   1.25, d3:     0, \n",
    "      A3: -pi/2, a3: -0.054, d4:  1.50, \n",
    "      A4:  pi/2, a4:      0, d5:     0, \n",
    "      A5: -pi/2, a5:      0, d6:     0, \n",
    "      A6:     0, a6:      0, d7: 0.303, q7:             0\n",
    "     }\n",
    "\n",
    "# Extract end-effector position and orientation from request\n",
    "# px,py,pz = end-effector position\n",
    "# roll, pitch, yaw = end-effector orientation\n",
    "\n",
    "# Calculate joint angles using Geometric IK method\n",
    "\n",
    "## Calculate Rrpy Rotation Matrix given roll pitch and yaw\n",
    "### Defien Euler Angles\n",
    "R_x = Matrix([[      1,      0,        0],\n",
    "              [      0, cos(r),  -sin(r)],\n",
    "              [      0, sin(r),   cos(r)]])\n",
    "R_y = Matrix([[ cos(p),      0,   sin(p)],\n",
    "              [      0,      1,        0],\n",
    "              [-sin(p),      0,   cos(p)]])\n",
    "R_z = Matrix([[ cos(y),-sin(y),        0],\n",
    "              [ sin(y), cos(y),        0],\n",
    "              [      0,      0,        1]])\n",
    "Rxyz = simplify(R_x*R_y*R_z)  ### Intrinsic rotation\n",
    "\n",
    "### Convert from DH parameter frame to URDF file frame\n",
    "R_z_corr = Matrix([[   cos(pi),   -sin(pi),           0],\n",
    "                   [   sin(pi),    cos(pi),           0],\n",
    "                   [          0,         0,           1]])\n",
    "R_y_corr = Matrix([[ cos(-pi/2),         0,  sin(-pi/2)],\n",
    "                   [          0,         1,           0],\n",
    "                   [-sin(-pi/2),         0,  cos(-pi/2)]])\n",
    "R_corr = R_z_corr*R_y_corr  ### Intrinsic rotation\n",
    "Rrpy = simplify(R_corr.inv()*Rxyz)\n",
    "\n",
    "## Calculate wrist center position\n",
    "l = 0.15\n",
    "wx = px - (d7.subs(DH)+l)*Rrpy[0,2]\n",
    "wy = py - (d7.subs(DH)+l)*Rrpy[1,2]\n",
    "wz = pz - (d7.subs(DH)+l)*Rrpy[2,2]\n",
    "\n",
    "## calculate q1\n",
    "q1 = atan2(wy,wx)\n",
    "\n",
    "## Calculate q2 and q3 using the Laws of Cosine\n",
    "### distance from joint_2 to wrist center\n",
    "d2_WC = sqrt((wz-d1.subs(DH))**2+(sqrt(wx**2+wy**2)-a1.subs(DH))**2)\n",
    "### angle between d2_wc and x-y plane of base_link\n",
    "AWC_2_xybase = atan2(wz-d1.subs(DH),d2_WC)\n",
    "### distance from joint_2 to joint_3\n",
    "d2_3 = a2.subs(DH)\n",
    "### distance from joint_3 to wrist center\n",
    "d3_WC = sqrt(d4.subs(DH)**2+a3.subs(DH)**2)\n",
    "### angle between d2_3 and d3_WC\n",
    "A2_3_WC = acos((d2_3**2+d3_WC**2-d2_WC**2)/(2*d2_3*d3_WC))\n",
    "### angle between d2_3 and d2_WC\n",
    "A3_2_WC = acos((d2_3**2+d2_WC**2-d3_WC**2)/(2*d2_3*d2_WC))\n",
    "### q2 and q3\n",
    "Q2 = pi/2.-A3_2_WC-AWC_2_xybase\n",
    "q3 = pi/2.-A2_3_WC\n",
    "\n",
    "## Calculate q4 q5 and q6\n",
    "### Calculate R0_3 Rotation matrix from T0_3 Homogeneous Transformation matrix\n",
    "def homogeneous_transform(A,a,d,q):\n",
    "    out = Matrix([[        cos(q),       -sin(q),       0,         a],\n",
    "                  [ sin(q)*cos(A), cos(q)*cos(A), -sin(A), -sin(A)*d],\n",
    "                  [ sin(q)*sin(A), cos(q)*sin(A),  cos(A),  cos(A)*d],\n",
    "                  [             0,             0,       0,         1]])\n",
    "    return out\n",
    "\n",
    "T0_1 = homogeneous_transform(A0,a0,d1,q1)\n",
    "T0_1 = T0_1.subs(DH)\n",
    "T1_2 = homogeneous_transform(A1,a1,d2,q2)\n",
    "T1_2 = T1_2.subs(DH)\n",
    "T2_3 = homogeneous_transform(A2,a2,d3,q3)\n",
    "T2_3 = T2_3.subs(DH)\n",
    "\n",
    "T0_3 = simplify(T0_1*T1_2*T2_3)\n",
    "R0_3 = T0_3[0:3,0:3]  ### convert from Homogeneous transform matrix to rotation matrix\n",
    "\n",
    "### Calculate R3_6 (Rrpy = R0_6)\n",
    "R3_6 = simplify(R0_3.inv()*Rrpy)\n",
    "\n",
    "### equate above R3_6 with R3_6 obtained from T3_6 with DH parameters\n",
    "### Obtain system of equation by letting T3_6[0:3,0:3]-R3_6 = 0 and solve for q4,q5,q6\n",
    "### R3_6 obtained from T3_6 with DH parameters\n",
    "# R3_6 = \n",
    "# Matrix([\n",
    "# [-sin(q4)*sin(q6) + cos(q4)*cos(q5)*cos(q6), -sin(q4)*cos(q6) - sin(q6)*cos(q4)*cos(q5), -sin(q5)*cos(q4)],\n",
    "# [                           sin(q5)*cos(q6),                           -sin(q5)*sin(q6),          cos(q5)],\n",
    "# [-sin(q4)*cos(q5)*cos(q6) - sin(q6)*cos(q4),  sin(q4)*sin(q6)*cos(q5) - cos(q4)*cos(q6),  sin(q4)*sin(q5)]])\n",
    "\n",
    "### Solve for q5 using the equation cos(q5)-R3_6[1,2] = 0\n",
    "Q5 = acos(R3_6[1,2])\n",
    "### Solve for q6 using the equation sin(q5)*cos(q6)-R3_6[1,0] = 0\n",
    "Q6 = acos(R3_6[1,0]/sin(Q5))\n",
    "### Solve for q4 using the equation sin(q4)*sin(q5)-R3_6[2,2] = 0\n",
    "Q4 = asin(R3_6[2,2]/sin(Q5))"
   ]
  },
  {
   "cell_type": "code",
   "execution_count": 12,
   "metadata": {},
   "outputs": [
    {
     "data": {
      "text/plain": [
       "Matrix([\n",
       "[-sin(q4)*sin(q6) + cos(q4)*cos(q5)*cos(q6), -sin(q4)*cos(q6) - sin(q6)*cos(q4)*cos(q5), -sin(q5)*cos(q4)],\n",
       "[                           sin(q5)*cos(q6),                           -sin(q5)*sin(q6),          cos(q5)],\n",
       "[-sin(q4)*cos(q5)*cos(q6) - sin(q6)*cos(q4),  sin(q4)*sin(q6)*cos(q5) - cos(q4)*cos(q6),  sin(q4)*sin(q5)]])"
      ]
     },
     "execution_count": 12,
     "metadata": {},
     "output_type": "execute_result"
    }
   ],
   "source": [
    "### calculate R3_6 using FK\n",
    "\n",
    "T3_4 = homogeneous_transform(A3,a3,d4,q4)\n",
    "T3_4 = T3_4.subs(DH)\n",
    "T4_5 = homogeneous_transform(A4,a4,d5,q5)\n",
    "T4_5 = T4_5.subs(DH)\n",
    "T5_6 = homogeneous_transform(A5,a5,d6,q6)\n",
    "T5_6 = T5_6.subs(DH)\n",
    "T3_6 = simplify(T3_4*T4_5*T5_6)\n",
    "R3_6 = T3_6[0:3,0:3]\n",
    "R3_6"
   ]
  },
  {
   "cell_type": "code",
   "execution_count": null,
   "metadata": {
    "collapsed": true
   },
   "outputs": [],
   "source": [
    "### joint limit\n",
    "\n",
    "joint1 = -185 185\n",
    "joint2 = -45 85\n",
    "joint3 = -210 155-90\n",
    "joint4 = -350 350\n",
    "joint5 = -125 125\n",
    "joint6 = -350 350"
   ]
  },
  {
   "cell_type": "code",
   "execution_count": 18,
   "metadata": {},
   "outputs": [
    {
     "data": {
      "text/plain": [
       "0.523598775598299"
      ]
     },
     "execution_count": 18,
     "metadata": {},
     "output_type": "execute_result"
    }
   ],
   "source": [
    "asin(0.5)"
   ]
  },
  {
   "cell_type": "code",
   "execution_count": null,
   "metadata": {
    "collapsed": true
   },
   "outputs": [],
   "source": [
    "# Define DH param symbols\n",
    "q1, q2, q3, q4, q5, q6, q7 = symbols('q1:8') #theta\n",
    "A0, A1, A2, A3, A4, A5, A6 = symbols('A0:7') #alpha\n",
    "a0, a1, a2, a3, a4, a5, a6 = symbols('a0:7') #dist Z(i-1)-Zi along X(i-1)\n",
    "d1, d2, d3, d4 ,d5, d6, d7 = symbols('d1:8') #dist X(i-1)-Xi along Zi\n",
    "theta2 = symbols('theta2') #theta2 calculated\n",
    "\n",
    "# DH params for Kuka KR210\n",
    "DH = {A0:     0, a0:      0, d1:  0.75,\n",
    "      A1: -pi/2, a1:   0.35, d2:     0, q2: theta2-pi/2,\n",
    "      A2:     0, a2:   1.25, d3:     0,\n",
    "      A3: -pi/2, a3: -0.054, d4:  1.50,\n",
    "      A4:  pi/2, a4:      0, d5:     0,\n",
    "      A5: -pi/2, a5:      0, d6:     0,\n",
    "      A6:     0, a6:      0, d7: 0.303, q7:           0\n",
    " }\n",
    "\n",
    "# Extract end-effector position and orientation from request\n",
    "# px,py,pz = end-effector position\n",
    "# roll, pitch, yaw = end-effector orientation\n",
    "px = req.poses[x].position.x\n",
    "py = req.poses[x].position.y\n",
    "pz = req.poses[x].position.z\n",
    "\n",
    "(roll, pitch, yaw) = tf.transformations.euler_from_quaternion(\n",
    "    [req.poses[x].orientation.x, req.poses[x].orientation.y,\n",
    "        req.poses[x].orientation.z, req.poses[x].orientation.w])\n",
    "\n",
    "# Calculate joint angles using Geometric IK method\n",
    "\n",
    "## Calculate Rrpy Rotation Matrix given roll pitch and yaw\n",
    "R_x = Matrix([[ 1,            0,          0],\n",
    "              [ 0,    cos(roll), -sin(roll)],\n",
    "              [ 0,    sin(roll),  cos(roll)]])\n",
    "\n",
    "R_y = Matrix([[ cos(pitch),     0,  sin(pitch)],\n",
    "              [          0,     1,           0],\n",
    "              [-sin(pitch),     0,  cos(pitch)]])\n",
    "\n",
    "R_z = Matrix([[ cos(yaw), -sin(yaw),        0],\n",
    "              [ sin(yaw),  cos(yaw),        0],\n",
    "              [        0,         0,        1]])\n",
    "\n",
    "Rxyz = R_x*R_y*R_z # intrinsic rotation\n",
    "\n",
    "### Convert from DH parameter frame to URDF file frame\n",
    "R_z_corr = Matrix([[   cos(pi), -sin(pi),           0],\n",
    "                   [   sin(pi),  cos(pi),           0],\n",
    "                   [          0,         0,           1]])\n",
    "R_y_corr = Matrix([[ cos(-pi/2),         0,  sin(-pi/2)],\n",
    "                   [          0,         1,           0],\n",
    "                   [-sin(-pi/2),         0,  cos(-pi/2)]])\n",
    "R_corr = R_z_corr*R_y_corr  # Intrinsic rotation\n",
    "Rrpy = R_corr.inv()*Rxyz\n",
    "\n",
    "## Calculate wrist center position\n",
    "l = 0.15 # from URDF file <joint from gripper_link to right_gripper_finger_link>\n",
    "wx = px - (d7.subs(DH)+l)*Rrpy[0,2]\n",
    "wy = py - (d7.subs(DH)+l)*Rrpy[1,2]\n",
    "wz = pz - (d7.subs(DH)+l)*Rrpy[2,2]\n",
    "\n",
    "## calculate q1\n",
    "q1 = atan2(wy,wx)\n",
    "\n",
    "## Calculate q2 and q3 using the Laws of Cosine\n",
    "### distance from joint_2 to wrist center\n",
    "d2_WC = sqrt((wz-d1.subs(DH))**2+(sqrt(wx**2+wy**2)-a1.subs(DH))**2)\n",
    "### angle between d2_wc and x-y plane of base_link\n",
    "AWC_2_xybase = atan2(wz-d1.subs(DH),d2_WC)\n",
    "### distance from joint_2 to joint_3\n",
    "d2_3 = a2.subs(DH)\n",
    "### distance from joint_3 to wrist center\n",
    "d3_WC = sqrt(d4.subs(DH)**2+a3.subs(DH)**2)\n",
    "### angle between d2_3 and d3_WC\n",
    "A2_3_WC = acos((d2_3**2+d3_WC**2-d2_WC**2)/(2*d2_3*d3_WC))\n",
    "### angle between d2_3 and d2_WC\n",
    "A3_2_WC = acos((d2_3**2+d2_WC**2-d3_WC**2)/(2*d2_3*d2_WC))\n",
    "### q2 and q3\n",
    "Q2 = pi/2-A3_2_WC-AWC_2_xybase\n",
    "q3 = pi/2-A2_3_WC\n",
    "\n",
    "## Calculate q4 q5 and q6\n",
    "### Calculate R0_3 Rotation matrix from T0_3 Homogeneous Transformation matrix\n",
    "def homogeneous_transform(A,a,d,q):\n",
    "    out = Matrix([[        cos(q),       -sin(q),       0,         a],\n",
    "                  [ sin(q)*cos(A), cos(q)*cos(A), -sin(A), -sin(A)*d],\n",
    "                  [ sin(q)*sin(A), cos(q)*sin(A),  cos(A),  cos(A)*d],\n",
    "                  [             0,             0,       0,         1]])\n",
    "    return out\n",
    "\n",
    "T0_1 = homogeneous_transform(A0,a0,d1,q1)\n",
    "T0_1 = T0_1.subs(DH)\n",
    "T1_2 = homogeneous_transform(A1,a1,d2,q2)\n",
    "T1_2 = T1_2.subs(DH)\n",
    "T1_2 = T1_2.subs(theta2,Q2)\n",
    "T2_3 = homogeneous_transform(A2,a2,d3,q3)\n",
    "T2_3 = T2_3.subs(DH)\n",
    "\n",
    "T0_3 = T0_1*T1_2*T2_3\n",
    "R0_3 = T0_3[0:3,0:3] # convert from Homogeneous transform matrix to rotation matrix\n",
    "\n",
    "### Calculate R3_6\n",
    "R3_6 = R0_3.inv()*Rrpy\n",
    "\n",
    "## Obtain system of equation by letting T3_6[0:3,0:3]-R3_6 = 0 and solve for q4,q5,q6\n",
    "### Solve for q5 using the equation cos(q5)-R3_6[1,2] = 0\n",
    "Q5 = acos(R3_6[1,2])\n",
    "### Solve for q6 using the equation sin(q5)*cos(q6)-R3_6[1,0] = 0\n",
    "Q6 = acos(R3_6[1,0]/sin(Q5))\n",
    "### Solve for q4 using the equation sin(q4)*sin(q5)-R3_6[2,2] = 0\n",
    "Q4 = asin(R3_6[2,2]/sin(Q5))\n",
    "\n",
    "## IK results\n",
    "theta1,theta2,theta3,theta4,theta5,theta6 = q1,Q2,q3,Q4,Q5,Q6\n"
   ]
  }
 ],
 "metadata": {
  "kernelspec": {
   "display_name": "Python 3",
   "language": "python",
   "name": "python3"
  },
  "language_info": {
   "codemirror_mode": {
    "name": "ipython",
    "version": 3
   },
   "file_extension": ".py",
   "mimetype": "text/x-python",
   "name": "python",
   "nbconvert_exporter": "python",
   "pygments_lexer": "ipython3",
   "version": "3.5.2"
  },
  "widgets": {
   "state": {},
   "version": "1.1.2"
  }
 },
 "nbformat": 4,
 "nbformat_minor": 2
}
